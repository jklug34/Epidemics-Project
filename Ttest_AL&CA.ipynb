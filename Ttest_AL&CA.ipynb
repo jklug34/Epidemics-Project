{
 "cells": [
  {
   "cell_type": "code",
   "execution_count": 1,
   "metadata": {},
   "outputs": [],
   "source": [
    "%matplotlib inline"
   ]
  },
  {
   "cell_type": "code",
   "execution_count": 2,
   "metadata": {},
   "outputs": [],
   "source": [
    "import warnings\n",
    "warnings.filterwarnings('ignore')"
   ]
  },
  {
   "cell_type": "code",
   "execution_count": 3,
   "metadata": {},
   "outputs": [],
   "source": [
    "# Dependencies\n",
    "import pandas as pd\n",
    "import numpy as np\n",
    "import matplotlib.pyplot as plt\n",
    "import scipy.stats as stats"
   ]
  },
  {
   "cell_type": "code",
   "execution_count": 4,
   "metadata": {},
   "outputs": [],
   "source": [
    "# Store filepath in a variable\n",
    "file4 = \"Resources/incidencepercapita.csv\"\n",
    "file_two = \"Resources/measles.csv\""
   ]
  },
  {
   "cell_type": "code",
   "execution_count": 5,
   "metadata": {},
   "outputs": [],
   "source": [
    "# Read our Data file with the pandas library\n",
    "file1_df = pd.read_csv(file4, encoding=\"ISO-8859-1\")\n",
    "file_two_df = pd.read_csv(file_two, encoding=\"ISO-8859-1\")"
   ]
  },
  {
   "cell_type": "code",
   "execution_count": 6,
   "metadata": {
    "scrolled": false
   },
   "outputs": [
    {
     "data": {
      "text/html": [
       "<div>\n",
       "<style scoped>\n",
       "    .dataframe tbody tr th:only-of-type {\n",
       "        vertical-align: middle;\n",
       "    }\n",
       "\n",
       "    .dataframe tbody tr th {\n",
       "        vertical-align: top;\n",
       "    }\n",
       "\n",
       "    .dataframe thead th {\n",
       "        text-align: right;\n",
       "    }\n",
       "</style>\n",
       "<table border=\"1\" class=\"dataframe\">\n",
       "  <thead>\n",
       "    <tr style=\"text-align: right;\">\n",
       "      <th></th>\n",
       "      <th>Unnamed: 0</th>\n",
       "      <th>state_name</th>\n",
       "      <th>Hepatitis A incidence_per_capita</th>\n",
       "      <th>measles incidence_per_capita</th>\n",
       "      <th>mumps incidence_per_capita</th>\n",
       "      <th>pertussis incidence_per_capita</th>\n",
       "      <th>polio incidence_per_capita</th>\n",
       "      <th>rubella incidence_per_capita</th>\n",
       "      <th>smallpox incidence_per_capita</th>\n",
       "    </tr>\n",
       "  </thead>\n",
       "  <tbody>\n",
       "    <tr>\n",
       "      <th>0</th>\n",
       "      <td>0</td>\n",
       "      <td>ALABAMA</td>\n",
       "      <td>0.140114</td>\n",
       "      <td>7.358485</td>\n",
       "      <td>0.472036</td>\n",
       "      <td>1.684924</td>\n",
       "      <td>0.144214</td>\n",
       "      <td>0.264848</td>\n",
       "      <td>0.264110</td>\n",
       "    </tr>\n",
       "    <tr>\n",
       "      <th>1</th>\n",
       "      <td>1</td>\n",
       "      <td>ALASKA</td>\n",
       "      <td>1.666455</td>\n",
       "      <td>8.111158</td>\n",
       "      <td>0.498955</td>\n",
       "      <td>1.528616</td>\n",
       "      <td>0.167105</td>\n",
       "      <td>0.213898</td>\n",
       "      <td>0.238333</td>\n",
       "    </tr>\n",
       "    <tr>\n",
       "      <th>2</th>\n",
       "      <td>2</td>\n",
       "      <td>ARIZONA</td>\n",
       "      <td>0.708678</td>\n",
       "      <td>7.872509</td>\n",
       "      <td>0.426592</td>\n",
       "      <td>1.565009</td>\n",
       "      <td>0.164784</td>\n",
       "      <td>0.208534</td>\n",
       "      <td>0.230800</td>\n",
       "    </tr>\n",
       "    <tr>\n",
       "      <th>3</th>\n",
       "      <td>3</td>\n",
       "      <td>ARKANSAS</td>\n",
       "      <td>0.267547</td>\n",
       "      <td>8.758858</td>\n",
       "      <td>0.495492</td>\n",
       "      <td>1.666336</td>\n",
       "      <td>0.148262</td>\n",
       "      <td>0.204926</td>\n",
       "      <td>0.217637</td>\n",
       "    </tr>\n",
       "    <tr>\n",
       "      <th>4</th>\n",
       "      <td>4</td>\n",
       "      <td>CALIFORNIA</td>\n",
       "      <td>0.584363</td>\n",
       "      <td>7.780177</td>\n",
       "      <td>0.462301</td>\n",
       "      <td>1.579469</td>\n",
       "      <td>0.171283</td>\n",
       "      <td>0.235062</td>\n",
       "      <td>0.265513</td>\n",
       "    </tr>\n",
       "  </tbody>\n",
       "</table>\n",
       "</div>"
      ],
      "text/plain": [
       "   Unnamed: 0  state_name  Hepatitis A incidence_per_capita  \\\n",
       "0           0     ALABAMA                          0.140114   \n",
       "1           1      ALASKA                          1.666455   \n",
       "2           2     ARIZONA                          0.708678   \n",
       "3           3    ARKANSAS                          0.267547   \n",
       "4           4  CALIFORNIA                          0.584363   \n",
       "\n",
       "   measles incidence_per_capita  mumps incidence_per_capita  \\\n",
       "0                      7.358485                    0.472036   \n",
       "1                      8.111158                    0.498955   \n",
       "2                      7.872509                    0.426592   \n",
       "3                      8.758858                    0.495492   \n",
       "4                      7.780177                    0.462301   \n",
       "\n",
       "   pertussis incidence_per_capita  polio incidence_per_capita  \\\n",
       "0                        1.684924                    0.144214   \n",
       "1                        1.528616                    0.167105   \n",
       "2                        1.565009                    0.164784   \n",
       "3                        1.666336                    0.148262   \n",
       "4                        1.579469                    0.171283   \n",
       "\n",
       "   rubella incidence_per_capita  smallpox incidence_per_capita  \n",
       "0                      0.264848                       0.264110  \n",
       "1                      0.213898                       0.238333  \n",
       "2                      0.208534                       0.230800  \n",
       "3                      0.204926                       0.217637  \n",
       "4                      0.235062                       0.265513  "
      ]
     },
     "execution_count": 6,
     "metadata": {},
     "output_type": "execute_result"
    }
   ],
   "source": [
    "# Show just the header\n",
    "file1_df.head()"
   ]
  },
  {
   "cell_type": "code",
   "execution_count": 7,
   "metadata": {},
   "outputs": [
    {
     "data": {
      "text/html": [
       "<div>\n",
       "<style scoped>\n",
       "    .dataframe tbody tr th:only-of-type {\n",
       "        vertical-align: middle;\n",
       "    }\n",
       "\n",
       "    .dataframe tbody tr th {\n",
       "        vertical-align: top;\n",
       "    }\n",
       "\n",
       "    .dataframe thead th {\n",
       "        text-align: right;\n",
       "    }\n",
       "</style>\n",
       "<table border=\"1\" class=\"dataframe\">\n",
       "  <thead>\n",
       "    <tr style=\"text-align: right;\">\n",
       "      <th></th>\n",
       "      <th>Unnamed: 0</th>\n",
       "      <th>state_name</th>\n",
       "      <th>measles incidence_per_capita</th>\n",
       "    </tr>\n",
       "  </thead>\n",
       "  <tbody>\n",
       "    <tr>\n",
       "      <th>0</th>\n",
       "      <td>0</td>\n",
       "      <td>ALABAMA</td>\n",
       "      <td>7.358485</td>\n",
       "    </tr>\n",
       "    <tr>\n",
       "      <th>1</th>\n",
       "      <td>1</td>\n",
       "      <td>ALASKA</td>\n",
       "      <td>8.111158</td>\n",
       "    </tr>\n",
       "    <tr>\n",
       "      <th>2</th>\n",
       "      <td>2</td>\n",
       "      <td>ARIZONA</td>\n",
       "      <td>7.872509</td>\n",
       "    </tr>\n",
       "    <tr>\n",
       "      <th>3</th>\n",
       "      <td>3</td>\n",
       "      <td>ARKANSAS</td>\n",
       "      <td>8.758858</td>\n",
       "    </tr>\n",
       "    <tr>\n",
       "      <th>4</th>\n",
       "      <td>4</td>\n",
       "      <td>CALIFORNIA</td>\n",
       "      <td>7.780177</td>\n",
       "    </tr>\n",
       "  </tbody>\n",
       "</table>\n",
       "</div>"
      ],
      "text/plain": [
       "   Unnamed: 0  state_name  measles incidence_per_capita\n",
       "0           0     ALABAMA                      7.358485\n",
       "1           1      ALASKA                      8.111158\n",
       "2           2     ARIZONA                      7.872509\n",
       "3           3    ARKANSAS                      8.758858\n",
       "4           4  CALIFORNIA                      7.780177"
      ]
     },
     "execution_count": 7,
     "metadata": {},
     "output_type": "execute_result"
    }
   ],
   "source": [
    "#Drop columns\n",
    "file2_df = file1_df.drop(columns=['Hepatitis A incidence_per_capita', 'mumps incidence_per_capita', 'pertussis incidence_per_capita', 'polio incidence_per_capita', 'rubella incidence_per_capita', 'smallpox incidence_per_capita'])\n",
    "file2_df.head()"
   ]
  },
  {
   "cell_type": "code",
   "execution_count": 8,
   "metadata": {},
   "outputs": [
    {
     "data": {
      "text/html": [
       "<div>\n",
       "<style scoped>\n",
       "    .dataframe tbody tr th:only-of-type {\n",
       "        vertical-align: middle;\n",
       "    }\n",
       "\n",
       "    .dataframe tbody tr th {\n",
       "        vertical-align: top;\n",
       "    }\n",
       "\n",
       "    .dataframe thead th {\n",
       "        text-align: right;\n",
       "    }\n",
       "</style>\n",
       "<table border=\"1\" class=\"dataframe\">\n",
       "  <thead>\n",
       "    <tr style=\"text-align: right;\">\n",
       "      <th></th>\n",
       "      <th>week</th>\n",
       "      <th>state_name</th>\n",
       "      <th>disease</th>\n",
       "      <th>cases</th>\n",
       "      <th>incidence_per_capita</th>\n",
       "    </tr>\n",
       "    <tr>\n",
       "      <th>state</th>\n",
       "      <th></th>\n",
       "      <th></th>\n",
       "      <th></th>\n",
       "      <th></th>\n",
       "      <th></th>\n",
       "    </tr>\n",
       "  </thead>\n",
       "  <tbody>\n",
       "    <tr>\n",
       "      <th>AL</th>\n",
       "      <td>192801</td>\n",
       "      <td>ALABAMA</td>\n",
       "      <td>MEASLES</td>\n",
       "      <td>97</td>\n",
       "      <td>3.67</td>\n",
       "    </tr>\n",
       "    <tr>\n",
       "      <th>AR</th>\n",
       "      <td>192801</td>\n",
       "      <td>ARKANSAS</td>\n",
       "      <td>MEASLES</td>\n",
       "      <td>76</td>\n",
       "      <td>4.11</td>\n",
       "    </tr>\n",
       "    <tr>\n",
       "      <th>AZ</th>\n",
       "      <td>192801</td>\n",
       "      <td>ARIZONA</td>\n",
       "      <td>MEASLES</td>\n",
       "      <td>8</td>\n",
       "      <td>1.90</td>\n",
       "    </tr>\n",
       "    <tr>\n",
       "      <th>CA</th>\n",
       "      <td>192801</td>\n",
       "      <td>CALIFORNIA</td>\n",
       "      <td>MEASLES</td>\n",
       "      <td>74</td>\n",
       "      <td>1.38</td>\n",
       "    </tr>\n",
       "    <tr>\n",
       "      <th>CO</th>\n",
       "      <td>192801</td>\n",
       "      <td>COLORADO</td>\n",
       "      <td>MEASLES</td>\n",
       "      <td>85</td>\n",
       "      <td>8.38</td>\n",
       "    </tr>\n",
       "  </tbody>\n",
       "</table>\n",
       "</div>"
      ],
      "text/plain": [
       "         week  state_name  disease  cases  incidence_per_capita\n",
       "state                                                          \n",
       "AL     192801     ALABAMA  MEASLES     97                  3.67\n",
       "AR     192801    ARKANSAS  MEASLES     76                  4.11\n",
       "AZ     192801     ARIZONA  MEASLES      8                  1.90\n",
       "CA     192801  CALIFORNIA  MEASLES     74                  1.38\n",
       "CO     192801    COLORADO  MEASLES     85                  8.38"
      ]
     },
     "execution_count": 8,
     "metadata": {},
     "output_type": "execute_result"
    }
   ],
   "source": [
    "# Set new index to state\n",
    "file_three_df = file_two_df.set_index(\"state\")\n",
    "file_three_df.head()"
   ]
  },
  {
   "cell_type": "code",
   "execution_count": 9,
   "metadata": {},
   "outputs": [
    {
     "data": {
      "text/plain": [
       "state\n",
       "AL     3.67\n",
       "AL     6.25\n",
       "AL     7.95\n",
       "AL    12.58\n",
       "AL     8.03\n",
       "Name: incidence_per_capita, dtype: float64"
      ]
     },
     "execution_count": 9,
     "metadata": {},
     "output_type": "execute_result"
    }
   ],
   "source": [
    "#Grab the data contained within the \"AL\" row and \"cases\" column\n",
    "AL = file_three_df.loc[\"AL\", \"incidence_per_capita\"]\n",
    "AL.head()"
   ]
  },
  {
   "cell_type": "code",
   "execution_count": 10,
   "metadata": {},
   "outputs": [
    {
     "data": {
      "text/plain": [
       "state\n",
       "CA    1.38\n",
       "CA    1.80\n",
       "CA    1.31\n",
       "CA    1.87\n",
       "CA    2.38\n",
       "Name: incidence_per_capita, dtype: float64"
      ]
     },
     "execution_count": 10,
     "metadata": {},
     "output_type": "execute_result"
    }
   ],
   "source": [
    "#Grab the data contained within the \"CA\" row and \"cases\" column\n",
    "CA = file_three_df.loc[\"CA\", \"incidence_per_capita\"]\n",
    "CA.head()"
   ]
  },
  {
   "cell_type": "code",
   "execution_count": 11,
   "metadata": {},
   "outputs": [
    {
     "data": {
      "text/plain": [
       "Ttest_indResult(statistic=-6.59862972686281, pvalue=4.485858982145973e-11)"
      ]
     },
     "execution_count": 11,
     "metadata": {},
     "output_type": "execute_result"
    }
   ],
   "source": [
    "stats.ttest_ind(AL, CA, equal_var=False)"
   ]
  },
  {
   "cell_type": "code",
   "execution_count": 12,
   "metadata": {},
   "outputs": [],
   "source": [
    "# Generate some fake data to test with\n",
    "def gendata(loc1=0, loc2=0):\n",
    "    AL = stats.norm.rvs(loc=loc1, size=50, random_state=0)\n",
    "    CA = stats.norm.rvs(loc=loc2, size=45, random_state=42)\n",
    "\n",
    "    # Scatter Plot of Data\n",
    "    plt.subplot(2, 1, 1)\n",
    "    plt.scatter(range(len(AL)), AL, label=\"AL\")\n",
    "    plt.scatter(range(len(CA)), CA, label=\"CA\")\n",
    "    plt.legend()\n",
    "\n",
    "    # Histogram Plot of Data\n",
    "    plt.subplot(2, 1, 2)\n",
    "    plt.hist(AL, 10, density=True, alpha=0.7, label=\"AL\")\n",
    "    plt.hist(CA, 10, density=True, alpha=0.7, label=\"CA\")\n",
    "    plt.axvline(AL.mean(), color='k', linestyle='dashed', linewidth=1)\n",
    "    plt.axvline(CA.mean(), color='k', linestyle='dashed', linewidth=1)\n",
    "    plt.legend()  \n",
    "    \n",
    "    return AL, CA"
   ]
  },
  {
   "cell_type": "code",
   "execution_count": 13,
   "metadata": {
    "scrolled": true
   },
   "outputs": [
    {
     "data": {
      "image/png": "[encoded data removed]",
      "text/plain": [
       "<Figure size 432x288 with 2 Axes>"
      ]
     },
     "metadata": {
      "needs_background": "light"
     },
     "output_type": "display_data"
    }
   ],
   "source": [
    "# Generate some data and show the scatter plot\n",
    "AL, CA = gendata()"
   ]
  },
  {
   "cell_type": "code",
   "execution_count": 14,
   "metadata": {},
   "outputs": [
    {
     "data": {
      "text/plain": [
       "Ttest_indResult(statistic=1.680399057852556, pvalue=0.09626493123724685)"
      ]
     },
     "execution_count": 14,
     "metadata": {},
     "output_type": "execute_result"
    }
   ],
   "source": [
    "# Note: Setting equal_var=False performs Welch's t-test which does \n",
    "# not assume equal population variance\n",
    "stats.ttest_ind(AL, CA, equal_var=False)"
   ]
  },
  {
   "cell_type": "code",
   "execution_count": 15,
   "metadata": {
    "scrolled": true
   },
   "outputs": [
    {
     "data": {
      "image/png": "[encoded data removed]",
      "text/plain": [
       "<Figure size 432x288 with 2 Axes>"
      ]
     },
     "metadata": {
      "needs_background": "light"
     },
     "output_type": "display_data"
    }
   ],
   "source": [
    "# Generate data with a bigger difference in means\n",
    "AL, CA = gendata(loc1=0, loc2=1)"
   ]
  },
  {
   "cell_type": "code",
   "execution_count": 16,
   "metadata": {
    "scrolled": true
   },
   "outputs": [
    {
     "data": {
      "text/plain": [
       "Ttest_indResult(statistic=-3.029216121188858, pvalue=0.0031807310798192046)"
      ]
     },
     "execution_count": 16,
     "metadata": {},
     "output_type": "execute_result"
    }
   ],
   "source": [
    "stats.ttest_ind(AL, CA, equal_var=False)"
   ]
  }
 ],
 "metadata": {
  "kernelspec": {
   "display_name": "Python [conda env:PythonData] *",
   "language": "python",
   "name": "conda-env-PythonData-py"
  },
  "language_info": {
   "codemirror_mode": {
    "name": "ipython",
    "version": 3
   },
   "file_extension": ".py",
   "mimetype": "text/x-python",
   "name": "python",
   "nbconvert_exporter": "python",
   "pygments_lexer": "ipython3",
   "version": "3.6.8"
  }
 },
 "nbformat": 4,
 "nbformat_minor": 2
}
